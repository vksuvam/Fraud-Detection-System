{
  "nbformat": 4,
  "nbformat_minor": 0,
  "metadata": {
    "colab": {
      "provenance": [],
      "collapsed_sections": [
        "vQmbXHlDfXFm",
        "8mf6JfBOe8Aw"
      ],
      "authorship_tag": "ABX9TyPYnKmTunh3PCHIICKxNQXQ"
    },
    "kernelspec": {
      "name": "python3",
      "display_name": "Python 3"
    },
    "language_info": {
      "name": "python"
    }
  },
  "cells": [
    {
      "cell_type": "markdown",
      "source": [
        "# **Importing Libraries**"
      ],
      "metadata": {
        "id": "2waqWUAGewx5"
      }
    },
    {
      "cell_type": "code",
      "source": [
        "import pandas as pd\n",
        "import numpy as np\n",
        "from sklearn.model_selection import train_test_split\n",
        "from sklearn.preprocessing import OneHotEncoder, StandardScaler\n",
        "from sklearn.compose import ColumnTransformer\n",
        "from sklearn.pipeline import Pipeline\n",
        "from sklearn.ensemble import IsolationForest\n",
        "from tensorflow.keras.models import Sequential\n",
        "from tensorflow.keras.layers import Dense, Dropout\n",
        "from cryptography.fernet import Fernet"
      ],
      "metadata": {
        "id": "6qnE8y-yeR2o"
      },
      "execution_count": 3,
      "outputs": []
    },
    {
      "cell_type": "markdown",
      "source": [
        "# **Generating Transaction Data with Numpy**"
      ],
      "metadata": {
        "id": "zXlcVKx8eat_"
      }
    },
    {
      "cell_type": "code",
      "source": [
        "# Parameters\n",
        "num_transactions = 10000\n",
        "fraud_ratio = 0.05  # 5% of the transactions are fraud\n",
        "\n",
        "# Transaction Types\n",
        "transaction_types = ['purchase', 'transfer', 'withdrawal', 'payment']\n",
        "\n",
        "# Merchant Categories\n",
        "merchant_categories = ['electronics', 'clothing', 'groceries', 'travel', 'entertainment']"
      ],
      "metadata": {
        "id": "sr6NkflnYcx2"
      },
      "execution_count": 4,
      "outputs": []
    },
    {
      "cell_type": "code",
      "source": [
        "# Generate Transaction Data\n",
        "data = {\n",
        "    'transaction_id': np.arange(num_transactions),\n",
        "    'user_id': np.random.randint(1, 1000, num_transactions),\n",
        "    'transaction_amount': np.round(np.random.uniform(1, 1000, num_transactions), 2),\n",
        "    'transaction_time': pd.date_range(start='2023-01-01', periods=num_transactions, freq='T'),\n",
        "    'transaction_type': np.random.choice(transaction_types, num_transactions),\n",
        "    'merchant_category': np.random.choice(merchant_categories, num_transactions),\n",
        "    'is_fraud': np.random.choice([0, 1], num_transactions, p=[1-fraud_ratio, fraud_ratio])\n",
        "}"
      ],
      "metadata": {
        "id": "0yDJ2blMrM7A"
      },
      "execution_count": 5,
      "outputs": []
    },
    {
      "cell_type": "code",
      "source": [
        "# Create DataFrame\n",
        "transaction_data = pd.DataFrame(data)"
      ],
      "metadata": {
        "id": "KshdkVoorUgv"
      },
      "execution_count": 6,
      "outputs": []
    },
    {
      "cell_type": "code",
      "source": [
        "# Save dataset to CSV file\n",
        "transaction_data.to_csv('transaction_data.csv', index=False)"
      ],
      "metadata": {
        "id": "dpBGHBGLrZTZ"
      },
      "execution_count": 7,
      "outputs": []
    },
    {
      "cell_type": "code",
      "source": [
        "# Display first 10 transactions\n",
        "print(transaction_data.head(10))"
      ],
      "metadata": {
        "colab": {
          "base_uri": "https://localhost:8080/"
        },
        "id": "HcrqN_khrcBY",
        "outputId": "153c4b15-ddf7-4ad3-d79b-7c33d3be04f5"
      },
      "execution_count": 9,
      "outputs": [
        {
          "output_type": "stream",
          "name": "stdout",
          "text": [
            "   transaction_id  user_id  transaction_amount    transaction_time  \\\n",
            "0               0      421              876.43 2023-01-01 00:00:00   \n",
            "1               1      166               64.72 2023-01-01 00:01:00   \n",
            "2               2      831              759.40 2023-01-01 00:02:00   \n",
            "3               3      465               48.64 2023-01-01 00:03:00   \n",
            "4               4      396               96.42 2023-01-01 00:04:00   \n",
            "5               5      464              314.50 2023-01-01 00:05:00   \n",
            "6               6      821              709.54 2023-01-01 00:06:00   \n",
            "7               7      557               76.81 2023-01-01 00:07:00   \n",
            "8               8      992              186.98 2023-01-01 00:08:00   \n",
            "9               9      415              844.23 2023-01-01 00:09:00   \n",
            "\n",
            "  transaction_type merchant_category  is_fraud  \n",
            "0          payment       electronics         0  \n",
            "1         purchase     entertainment         0  \n",
            "2          payment     entertainment         0  \n",
            "3          payment     entertainment         0  \n",
            "4         transfer     entertainment         0  \n",
            "5       withdrawal       electronics         0  \n",
            "6       withdrawal       electronics         0  \n",
            "7          payment          clothing         0  \n",
            "8       withdrawal          clothing         0  \n",
            "9          payment       electronics         0  \n"
          ]
        }
      ]
    },
    {
      "cell_type": "markdown",
      "source": [
        "# **Generate Encryption Key**"
      ],
      "metadata": {
        "id": "Kfasg5btrdvJ"
      }
    },
    {
      "cell_type": "code",
      "source": [
        "key = Fernet.generate_key()\n",
        "cipher = Fernet(key)"
      ],
      "metadata": {
        "id": "Upaf34-sZtHm"
      },
      "execution_count": 10,
      "outputs": []
    },
    {
      "cell_type": "markdown",
      "source": [
        "# **Feature Engineering**"
      ],
      "metadata": {
        "id": "Qr9luW2Ynfa1"
      }
    },
    {
      "cell_type": "code",
      "source": [
        "# Load the dataset\n",
        "transaction_data = pd.read_csv('transaction_data.csv')"
      ],
      "metadata": {
        "id": "OIEuzaEXRq93"
      },
      "execution_count": 11,
      "outputs": []
    },
    {
      "cell_type": "code",
      "source": [
        "transaction_data['transaction_time'] = pd.to_datetime(transaction_data['transaction_time'])\n",
        "transaction_data['transaction_hour'] = transaction_data['transaction_time'].dt.hour\n",
        "transaction_data['transaction_day'] = transaction_data['transaction_time'].dt.dayofweek"
      ],
      "metadata": {
        "id": "JjWGRlskZTXT"
      },
      "execution_count": 12,
      "outputs": []
    },
    {
      "cell_type": "markdown",
      "source": [
        "# **Data Encryption**"
      ],
      "metadata": {
        "id": "Ig_5IBiUni1G"
      }
    },
    {
      "cell_type": "code",
      "source": [
        "transaction_data['transaction_id'] = transaction_data['transaction_id'].apply(lambda x: cipher.encrypt(str(x).encode()).decode())\n",
        "transaction_data['transaction_time'] = transaction_data['transaction_time'].apply(lambda x: cipher.encrypt(str(x).encode()).decode())\n",
        "\n",
        "with open('encryption_key.key', 'wb') as key_file:\n",
        "    key_file.write(key)"
      ],
      "metadata": {
        "id": "HB5grIaVR3RL"
      },
      "execution_count": 13,
      "outputs": []
    },
    {
      "cell_type": "markdown",
      "source": [
        "# **Data Anonymization**"
      ],
      "metadata": {
        "id": "CtCmTT_fmpLO"
      }
    },
    {
      "cell_type": "code",
      "source": [
        "transaction_data = transaction_data.drop(columns=['user_id'])"
      ],
      "metadata": {
        "id": "U2GnI_9TR61B"
      },
      "execution_count": 14,
      "outputs": []
    },
    {
      "cell_type": "markdown",
      "source": [
        "# **Differential Privacy**"
      ],
      "metadata": {
        "id": "ciCdflO5m762"
      }
    },
    {
      "cell_type": "code",
      "source": [
        "numerical_features = ['transaction_amount']\n",
        "categorical_features = ['transaction_type', 'merchant_category']"
      ],
      "metadata": {
        "id": "8WJ6m76KZ1MG"
      },
      "execution_count": 15,
      "outputs": []
    },
    {
      "cell_type": "code",
      "source": [
        "def add_noise(data, epsilon=0.1):\n",
        "    noise = np.random.laplace(0, 1/epsilon, data.shape)\n",
        "    return data + noise\n",
        "\n",
        "transaction_data[numerical_features] = add_noise(transaction_data[numerical_features])"
      ],
      "metadata": {
        "id": "TSSBhgGRSDxq"
      },
      "execution_count": 16,
      "outputs": []
    },
    {
      "cell_type": "markdown",
      "source": [
        "# **Encode Categorical Features**"
      ],
      "metadata": {
        "id": "_UEmGphftIjY"
      }
    },
    {
      "cell_type": "code",
      "source": [
        "categorical_features = ['transaction_type', 'merchant_category']\n",
        "numerical_features = ['transaction_amount']\n",
        "\n",
        "preprocessor = ColumnTransformer(\n",
        "    transformers=[\n",
        "        ('num', StandardScaler(), numerical_features),\n",
        "        ('cat', OneHotEncoder(), categorical_features)\n",
        "    ])"
      ],
      "metadata": {
        "id": "BqIyvByUSJJh"
      },
      "execution_count": 17,
      "outputs": []
    },
    {
      "cell_type": "code",
      "source": [
        "# Apply the preprocessing pipeline\n",
        "X = transaction_data.drop(columns=['transaction_id', 'transaction_time', 'is_fraud'])\n",
        "y = transaction_data['is_fraud']\n",
        "\n",
        "X_preprocessed = preprocessor.fit_transform(X)"
      ],
      "metadata": {
        "id": "jl23AfBcSTyF"
      },
      "execution_count": 18,
      "outputs": []
    },
    {
      "cell_type": "code",
      "source": [
        "# Convert the preprocessed data back to a DataFrame for better visualization\n",
        "X_preprocessed_df = pd.DataFrame(X_preprocessed, columns=preprocessor.get_feature_names_out())\n",
        "\n",
        "\n",
        "\n",
        "X_preprocessed_df['transaction_hour'] = transaction_data['transaction_hour']\n",
        "X_preprocessed_df['transaction_day'] = transaction_data['transaction_day']"
      ],
      "metadata": {
        "id": "1UDqK3tbSV9p"
      },
      "execution_count": 19,
      "outputs": []
    },
    {
      "cell_type": "markdown",
      "source": [
        "# **Data Splitting**"
      ],
      "metadata": {
        "id": "4quBoz9KtDQv"
      }
    },
    {
      "cell_type": "code",
      "source": [
        "X_train, X_test, y_train, y_test = train_test_split(X_preprocessed_df, y, test_size=0.2, random_state=42)"
      ],
      "metadata": {
        "id": "zJ1IKcr-SYdQ"
      },
      "execution_count": 20,
      "outputs": []
    },
    {
      "cell_type": "markdown",
      "source": [
        "# **Anomaly Detection using Isolation Forest Algorithm**"
      ],
      "metadata": {
        "id": "cg5D3_RMkuRH"
      }
    },
    {
      "cell_type": "code",
      "source": [
        "iso_forest = IsolationForest(contamination=0.05)\n",
        "iso_forest.fit(X_train)\n",
        "\n",
        "train_anomalies = iso_forest.predict(X_train)\n",
        "test_anomalies = iso_forest.predict(X_test)\n",
        "\n",
        "train_anomalies = np.where(train_anomalies == -1, 1, 0)\n",
        "test_anomalies = np.where(test_anomalies == -1, 1, 0)\n",
        "\n",
        "X_train['anomaly'] = train_anomalies\n",
        "X_test['anomaly'] = test_anomalies"
      ],
      "metadata": {
        "colab": {
          "base_uri": "https://localhost:8080/"
        },
        "id": "GIM79N0YcBLX",
        "outputId": "d976289f-b74f-469b-e2dc-e565515adefe"
      },
      "execution_count": 21,
      "outputs": [
        {
          "output_type": "stream",
          "name": "stderr",
          "text": [
            "/usr/local/lib/python3.10/dist-packages/sklearn/base.py:439: UserWarning: X does not have valid feature names, but IsolationForest was fitted with feature names\n",
            "  warnings.warn(\n"
          ]
        }
      ]
    },
    {
      "cell_type": "markdown",
      "source": [
        "# **Pattern Recognition using Neural Network**"
      ],
      "metadata": {
        "id": "UAoRVLellalW"
      }
    },
    {
      "cell_type": "code",
      "source": [
        "model = Sequential()\n",
        "model.add(Dense(64, input_dim=X_train.shape[1], activation='relu'))\n",
        "model.add(Dropout(0.5))\n",
        "model.add(Dense(32, activation='relu'))\n",
        "model.add(Dropout(0.5))\n",
        "model.add(Dense(1, activation='sigmoid'))"
      ],
      "metadata": {
        "id": "GMdh55tdcHnW"
      },
      "execution_count": 22,
      "outputs": []
    },
    {
      "cell_type": "code",
      "source": [
        "model.compile(optimizer='adam', loss='binary_crossentropy', metrics=['accuracy'])"
      ],
      "metadata": {
        "id": "1FhRJQULcLM-"
      },
      "execution_count": 23,
      "outputs": []
    },
    {
      "cell_type": "code",
      "source": [
        "model.fit(X_train, y_train, epochs=20, batch_size=32, validation_data=(X_test, y_test))"
      ],
      "metadata": {
        "colab": {
          "base_uri": "https://localhost:8080/"
        },
        "id": "_5v0DD4qcQVS",
        "outputId": "5f1e433e-3632-40aa-b9d2-7fb8e2bc4451"
      },
      "execution_count": 24,
      "outputs": [
        {
          "output_type": "stream",
          "name": "stdout",
          "text": [
            "Epoch 1/20\n",
            "250/250 [==============================] - 3s 4ms/step - loss: 0.3084 - accuracy: 0.9384 - val_loss: 0.2359 - val_accuracy: 0.9560\n",
            "Epoch 2/20\n",
            "250/250 [==============================] - 1s 3ms/step - loss: 0.2561 - accuracy: 0.9485 - val_loss: 0.2203 - val_accuracy: 0.9560\n",
            "Epoch 3/20\n",
            "250/250 [==============================] - 1s 3ms/step - loss: 0.2376 - accuracy: 0.9495 - val_loss: 0.1959 - val_accuracy: 0.9560\n",
            "Epoch 4/20\n",
            "250/250 [==============================] - 1s 3ms/step - loss: 0.2294 - accuracy: 0.9495 - val_loss: 0.2023 - val_accuracy: 0.9560\n",
            "Epoch 5/20\n",
            "250/250 [==============================] - 1s 3ms/step - loss: 0.2228 - accuracy: 0.9495 - val_loss: 0.1965 - val_accuracy: 0.9560\n",
            "Epoch 6/20\n",
            "250/250 [==============================] - 1s 3ms/step - loss: 0.2188 - accuracy: 0.9495 - val_loss: 0.1989 - val_accuracy: 0.9560\n",
            "Epoch 7/20\n",
            "250/250 [==============================] - 1s 3ms/step - loss: 0.2175 - accuracy: 0.9495 - val_loss: 0.2003 - val_accuracy: 0.9560\n",
            "Epoch 8/20\n",
            "250/250 [==============================] - 1s 3ms/step - loss: 0.2167 - accuracy: 0.9495 - val_loss: 0.1920 - val_accuracy: 0.9560\n",
            "Epoch 9/20\n",
            "250/250 [==============================] - 1s 3ms/step - loss: 0.2109 - accuracy: 0.9495 - val_loss: 0.1926 - val_accuracy: 0.9560\n",
            "Epoch 10/20\n",
            "250/250 [==============================] - 1s 3ms/step - loss: 0.2153 - accuracy: 0.9495 - val_loss: 0.1920 - val_accuracy: 0.9560\n",
            "Epoch 11/20\n",
            "250/250 [==============================] - 1s 3ms/step - loss: 0.2105 - accuracy: 0.9495 - val_loss: 0.1873 - val_accuracy: 0.9560\n",
            "Epoch 12/20\n",
            "250/250 [==============================] - 1s 3ms/step - loss: 0.2100 - accuracy: 0.9495 - val_loss: 0.1879 - val_accuracy: 0.9560\n",
            "Epoch 13/20\n",
            "250/250 [==============================] - 1s 5ms/step - loss: 0.2077 - accuracy: 0.9495 - val_loss: 0.1856 - val_accuracy: 0.9560\n",
            "Epoch 14/20\n",
            "250/250 [==============================] - 1s 5ms/step - loss: 0.2073 - accuracy: 0.9495 - val_loss: 0.1858 - val_accuracy: 0.9560\n",
            "Epoch 15/20\n",
            "250/250 [==============================] - 2s 8ms/step - loss: 0.2087 - accuracy: 0.9495 - val_loss: 0.1872 - val_accuracy: 0.9560\n",
            "Epoch 16/20\n",
            "250/250 [==============================] - 2s 6ms/step - loss: 0.2037 - accuracy: 0.9495 - val_loss: 0.1854 - val_accuracy: 0.9560\n",
            "Epoch 17/20\n",
            "250/250 [==============================] - 1s 5ms/step - loss: 0.2089 - accuracy: 0.9495 - val_loss: 0.1873 - val_accuracy: 0.9560\n",
            "Epoch 18/20\n",
            "250/250 [==============================] - 1s 5ms/step - loss: 0.2021 - accuracy: 0.9495 - val_loss: 0.1855 - val_accuracy: 0.9560\n",
            "Epoch 19/20\n",
            "250/250 [==============================] - 2s 6ms/step - loss: 0.2037 - accuracy: 0.9495 - val_loss: 0.1883 - val_accuracy: 0.9560\n",
            "Epoch 20/20\n",
            "250/250 [==============================] - 1s 5ms/step - loss: 0.2042 - accuracy: 0.9495 - val_loss: 0.1852 - val_accuracy: 0.9560\n"
          ]
        },
        {
          "output_type": "execute_result",
          "data": {
            "text/plain": [
              "<keras.src.callbacks.History at 0x7f34147e7580>"
            ]
          },
          "metadata": {},
          "execution_count": 24
        }
      ]
    },
    {
      "cell_type": "code",
      "source": [
        "loss, accuracy = model.evaluate(X_test, y_test)\n",
        "print(f'Test Accuracy: {accuracy}')"
      ],
      "metadata": {
        "colab": {
          "base_uri": "https://localhost:8080/"
        },
        "id": "3j4-21RycR6W",
        "outputId": "c0bded80-6d1f-49bf-8a7f-ffb82468b962"
      },
      "execution_count": 25,
      "outputs": [
        {
          "output_type": "stream",
          "name": "stdout",
          "text": [
            "63/63 [==============================] - 0s 2ms/step - loss: 0.1852 - accuracy: 0.9560\n",
            "Test Accuracy: 0.9559999704360962\n"
          ]
        }
      ]
    },
    {
      "cell_type": "code",
      "source": [
        "y_pred = model.predict(X_test)\n",
        "y_pred = (y_pred > 0.5).astype(int)"
      ],
      "metadata": {
        "colab": {
          "base_uri": "https://localhost:8080/"
        },
        "id": "2gx8KGs7cZh7",
        "outputId": "5759874d-d043-45e2-9938-159496919ef2"
      },
      "execution_count": 26,
      "outputs": [
        {
          "output_type": "stream",
          "name": "stdout",
          "text": [
            "63/63 [==============================] - 0s 2ms/step\n"
          ]
        }
      ]
    },
    {
      "cell_type": "markdown",
      "source": [
        "# **Model Evaluation**"
      ],
      "metadata": {
        "id": "dmp9G8w8l1f7"
      }
    },
    {
      "cell_type": "code",
      "source": [
        "from sklearn.metrics import classification_report, confusion_matrix\n",
        "\n",
        "print(confusion_matrix(y_test, y_pred))\n",
        "print(classification_report(y_test, y_pred))"
      ],
      "metadata": {
        "colab": {
          "base_uri": "https://localhost:8080/"
        },
        "id": "ZkIbIVNjcczZ",
        "outputId": "ef956988-87b1-41c7-a6e0-bf9433ceb010"
      },
      "execution_count": 27,
      "outputs": [
        {
          "output_type": "stream",
          "name": "stdout",
          "text": [
            "[[1912    0]\n",
            " [  88    0]]\n",
            "              precision    recall  f1-score   support\n",
            "\n",
            "           0       0.96      1.00      0.98      1912\n",
            "           1       0.00      0.00      0.00        88\n",
            "\n",
            "    accuracy                           0.96      2000\n",
            "   macro avg       0.48      0.50      0.49      2000\n",
            "weighted avg       0.91      0.96      0.93      2000\n",
            "\n"
          ]
        },
        {
          "output_type": "stream",
          "name": "stderr",
          "text": [
            "/usr/local/lib/python3.10/dist-packages/sklearn/metrics/_classification.py:1344: UndefinedMetricWarning: Precision and F-score are ill-defined and being set to 0.0 in labels with no predicted samples. Use `zero_division` parameter to control this behavior.\n",
            "  _warn_prf(average, modifier, msg_start, len(result))\n",
            "/usr/local/lib/python3.10/dist-packages/sklearn/metrics/_classification.py:1344: UndefinedMetricWarning: Precision and F-score are ill-defined and being set to 0.0 in labels with no predicted samples. Use `zero_division` parameter to control this behavior.\n",
            "  _warn_prf(average, modifier, msg_start, len(result))\n",
            "/usr/local/lib/python3.10/dist-packages/sklearn/metrics/_classification.py:1344: UndefinedMetricWarning: Precision and F-score are ill-defined and being set to 0.0 in labels with no predicted samples. Use `zero_division` parameter to control this behavior.\n",
            "  _warn_prf(average, modifier, msg_start, len(result))\n"
          ]
        }
      ]
    },
    {
      "cell_type": "markdown",
      "source": [
        "# **Displaying Enrcypted Transaction Data**"
      ],
      "metadata": {
        "id": "vQmbXHlDfXFm"
      }
    },
    {
      "cell_type": "code",
      "source": [
        "transaction_data.head()"
      ],
      "metadata": {
        "colab": {
          "base_uri": "https://localhost:8080/",
          "height": 313
        },
        "id": "cNR_1wi2cl1l",
        "outputId": "3b4e87ba-0a2c-433f-ccf5-ee9ae627d288"
      },
      "execution_count": 28,
      "outputs": [
        {
          "output_type": "execute_result",
          "data": {
            "text/plain": [
              "                                      transaction_id  transaction_amount  \\\n",
              "0  gAAAAABmkpv632cZJEfJYV5P7j9zzh_4diqkO_GV7c8jBB...          871.447303   \n",
              "1  gAAAAABmkpv6LzDTCwkf_ngK6erqoUqMGnqiyYz09MYIwk...           66.424547   \n",
              "2  gAAAAABmkpv68GIRMDGDHvJ7yFPvSlu7nzMUh5o6kIa1ju...          754.916352   \n",
              "3  gAAAAABmkpv688lzpxcTHRdQDhRyGCinN4m70y6-v3UR0L...           47.479052   \n",
              "4  gAAAAABmkpv6YmolHXZKmNRJ8U-m6ZgC_d-xz23XUUKxmf...          105.032887   \n",
              "\n",
              "                                    transaction_time transaction_type  \\\n",
              "0  gAAAAABmkpv7jM6r9diAu47ljUkgr8wtgWhfYw-d5xeKFd...          payment   \n",
              "1  gAAAAABmkpv7z-PL5eYWPpoacJiZdHDuKJUDBoF-vEdaw6...         purchase   \n",
              "2  gAAAAABmkpv7JWtNjZw4pzQwjpSdTKe7p73pjGB4-kG2eM...          payment   \n",
              "3  gAAAAABmkpv7EXyfQNew-Az-wprQqgQGRAslRM0i_JmHqv...          payment   \n",
              "4  gAAAAABmkpv732KTyKEacfl6eiTTUa25ngXjjgNEW-6agf...         transfer   \n",
              "\n",
              "  merchant_category  is_fraud  transaction_hour  transaction_day  \n",
              "0       electronics         0                 0                6  \n",
              "1     entertainment         0                 0                6  \n",
              "2     entertainment         0                 0                6  \n",
              "3     entertainment         0                 0                6  \n",
              "4     entertainment         0                 0                6  "
            ],
            "text/html": [
              "\n",
              "  <div id=\"df-44229567-4969-4273-a561-7648cc599c18\" class=\"colab-df-container\">\n",
              "    <div>\n",
              "<style scoped>\n",
              "    .dataframe tbody tr th:only-of-type {\n",
              "        vertical-align: middle;\n",
              "    }\n",
              "\n",
              "    .dataframe tbody tr th {\n",
              "        vertical-align: top;\n",
              "    }\n",
              "\n",
              "    .dataframe thead th {\n",
              "        text-align: right;\n",
              "    }\n",
              "</style>\n",
              "<table border=\"1\" class=\"dataframe\">\n",
              "  <thead>\n",
              "    <tr style=\"text-align: right;\">\n",
              "      <th></th>\n",
              "      <th>transaction_id</th>\n",
              "      <th>transaction_amount</th>\n",
              "      <th>transaction_time</th>\n",
              "      <th>transaction_type</th>\n",
              "      <th>merchant_category</th>\n",
              "      <th>is_fraud</th>\n",
              "      <th>transaction_hour</th>\n",
              "      <th>transaction_day</th>\n",
              "    </tr>\n",
              "  </thead>\n",
              "  <tbody>\n",
              "    <tr>\n",
              "      <th>0</th>\n",
              "      <td>gAAAAABmkpv632cZJEfJYV5P7j9zzh_4diqkO_GV7c8jBB...</td>\n",
              "      <td>871.447303</td>\n",
              "      <td>gAAAAABmkpv7jM6r9diAu47ljUkgr8wtgWhfYw-d5xeKFd...</td>\n",
              "      <td>payment</td>\n",
              "      <td>electronics</td>\n",
              "      <td>0</td>\n",
              "      <td>0</td>\n",
              "      <td>6</td>\n",
              "    </tr>\n",
              "    <tr>\n",
              "      <th>1</th>\n",
              "      <td>gAAAAABmkpv6LzDTCwkf_ngK6erqoUqMGnqiyYz09MYIwk...</td>\n",
              "      <td>66.424547</td>\n",
              "      <td>gAAAAABmkpv7z-PL5eYWPpoacJiZdHDuKJUDBoF-vEdaw6...</td>\n",
              "      <td>purchase</td>\n",
              "      <td>entertainment</td>\n",
              "      <td>0</td>\n",
              "      <td>0</td>\n",
              "      <td>6</td>\n",
              "    </tr>\n",
              "    <tr>\n",
              "      <th>2</th>\n",
              "      <td>gAAAAABmkpv68GIRMDGDHvJ7yFPvSlu7nzMUh5o6kIa1ju...</td>\n",
              "      <td>754.916352</td>\n",
              "      <td>gAAAAABmkpv7JWtNjZw4pzQwjpSdTKe7p73pjGB4-kG2eM...</td>\n",
              "      <td>payment</td>\n",
              "      <td>entertainment</td>\n",
              "      <td>0</td>\n",
              "      <td>0</td>\n",
              "      <td>6</td>\n",
              "    </tr>\n",
              "    <tr>\n",
              "      <th>3</th>\n",
              "      <td>gAAAAABmkpv688lzpxcTHRdQDhRyGCinN4m70y6-v3UR0L...</td>\n",
              "      <td>47.479052</td>\n",
              "      <td>gAAAAABmkpv7EXyfQNew-Az-wprQqgQGRAslRM0i_JmHqv...</td>\n",
              "      <td>payment</td>\n",
              "      <td>entertainment</td>\n",
              "      <td>0</td>\n",
              "      <td>0</td>\n",
              "      <td>6</td>\n",
              "    </tr>\n",
              "    <tr>\n",
              "      <th>4</th>\n",
              "      <td>gAAAAABmkpv6YmolHXZKmNRJ8U-m6ZgC_d-xz23XUUKxmf...</td>\n",
              "      <td>105.032887</td>\n",
              "      <td>gAAAAABmkpv732KTyKEacfl6eiTTUa25ngXjjgNEW-6agf...</td>\n",
              "      <td>transfer</td>\n",
              "      <td>entertainment</td>\n",
              "      <td>0</td>\n",
              "      <td>0</td>\n",
              "      <td>6</td>\n",
              "    </tr>\n",
              "  </tbody>\n",
              "</table>\n",
              "</div>\n",
              "    <div class=\"colab-df-buttons\">\n",
              "\n",
              "  <div class=\"colab-df-container\">\n",
              "    <button class=\"colab-df-convert\" onclick=\"convertToInteractive('df-44229567-4969-4273-a561-7648cc599c18')\"\n",
              "            title=\"Convert this dataframe to an interactive table.\"\n",
              "            style=\"display:none;\">\n",
              "\n",
              "  <svg xmlns=\"http://www.w3.org/2000/svg\" height=\"24px\" viewBox=\"0 -960 960 960\">\n",
              "    <path d=\"M120-120v-720h720v720H120Zm60-500h600v-160H180v160Zm220 220h160v-160H400v160Zm0 220h160v-160H400v160ZM180-400h160v-160H180v160Zm440 0h160v-160H620v160ZM180-180h160v-160H180v160Zm440 0h160v-160H620v160Z\"/>\n",
              "  </svg>\n",
              "    </button>\n",
              "\n",
              "  <style>\n",
              "    .colab-df-container {\n",
              "      display:flex;\n",
              "      gap: 12px;\n",
              "    }\n",
              "\n",
              "    .colab-df-convert {\n",
              "      background-color: #E8F0FE;\n",
              "      border: none;\n",
              "      border-radius: 50%;\n",
              "      cursor: pointer;\n",
              "      display: none;\n",
              "      fill: #1967D2;\n",
              "      height: 32px;\n",
              "      padding: 0 0 0 0;\n",
              "      width: 32px;\n",
              "    }\n",
              "\n",
              "    .colab-df-convert:hover {\n",
              "      background-color: #E2EBFA;\n",
              "      box-shadow: 0px 1px 2px rgba(60, 64, 67, 0.3), 0px 1px 3px 1px rgba(60, 64, 67, 0.15);\n",
              "      fill: #174EA6;\n",
              "    }\n",
              "\n",
              "    .colab-df-buttons div {\n",
              "      margin-bottom: 4px;\n",
              "    }\n",
              "\n",
              "    [theme=dark] .colab-df-convert {\n",
              "      background-color: #3B4455;\n",
              "      fill: #D2E3FC;\n",
              "    }\n",
              "\n",
              "    [theme=dark] .colab-df-convert:hover {\n",
              "      background-color: #434B5C;\n",
              "      box-shadow: 0px 1px 3px 1px rgba(0, 0, 0, 0.15);\n",
              "      filter: drop-shadow(0px 1px 2px rgba(0, 0, 0, 0.3));\n",
              "      fill: #FFFFFF;\n",
              "    }\n",
              "  </style>\n",
              "\n",
              "    <script>\n",
              "      const buttonEl =\n",
              "        document.querySelector('#df-44229567-4969-4273-a561-7648cc599c18 button.colab-df-convert');\n",
              "      buttonEl.style.display =\n",
              "        google.colab.kernel.accessAllowed ? 'block' : 'none';\n",
              "\n",
              "      async function convertToInteractive(key) {\n",
              "        const element = document.querySelector('#df-44229567-4969-4273-a561-7648cc599c18');\n",
              "        const dataTable =\n",
              "          await google.colab.kernel.invokeFunction('convertToInteractive',\n",
              "                                                    [key], {});\n",
              "        if (!dataTable) return;\n",
              "\n",
              "        const docLinkHtml = 'Like what you see? Visit the ' +\n",
              "          '<a target=\"_blank\" href=https://colab.research.google.com/notebooks/data_table.ipynb>data table notebook</a>'\n",
              "          + ' to learn more about interactive tables.';\n",
              "        element.innerHTML = '';\n",
              "        dataTable['output_type'] = 'display_data';\n",
              "        await google.colab.output.renderOutput(dataTable, element);\n",
              "        const docLink = document.createElement('div');\n",
              "        docLink.innerHTML = docLinkHtml;\n",
              "        element.appendChild(docLink);\n",
              "      }\n",
              "    </script>\n",
              "  </div>\n",
              "\n",
              "\n",
              "<div id=\"df-8136aabd-02aa-4ae1-a4b5-1f5ddecdd51a\">\n",
              "  <button class=\"colab-df-quickchart\" onclick=\"quickchart('df-8136aabd-02aa-4ae1-a4b5-1f5ddecdd51a')\"\n",
              "            title=\"Suggest charts\"\n",
              "            style=\"display:none;\">\n",
              "\n",
              "<svg xmlns=\"http://www.w3.org/2000/svg\" height=\"24px\"viewBox=\"0 0 24 24\"\n",
              "     width=\"24px\">\n",
              "    <g>\n",
              "        <path d=\"M19 3H5c-1.1 0-2 .9-2 2v14c0 1.1.9 2 2 2h14c1.1 0 2-.9 2-2V5c0-1.1-.9-2-2-2zM9 17H7v-7h2v7zm4 0h-2V7h2v10zm4 0h-2v-4h2v4z\"/>\n",
              "    </g>\n",
              "</svg>\n",
              "  </button>\n",
              "\n",
              "<style>\n",
              "  .colab-df-quickchart {\n",
              "      --bg-color: #E8F0FE;\n",
              "      --fill-color: #1967D2;\n",
              "      --hover-bg-color: #E2EBFA;\n",
              "      --hover-fill-color: #174EA6;\n",
              "      --disabled-fill-color: #AAA;\n",
              "      --disabled-bg-color: #DDD;\n",
              "  }\n",
              "\n",
              "  [theme=dark] .colab-df-quickchart {\n",
              "      --bg-color: #3B4455;\n",
              "      --fill-color: #D2E3FC;\n",
              "      --hover-bg-color: #434B5C;\n",
              "      --hover-fill-color: #FFFFFF;\n",
              "      --disabled-bg-color: #3B4455;\n",
              "      --disabled-fill-color: #666;\n",
              "  }\n",
              "\n",
              "  .colab-df-quickchart {\n",
              "    background-color: var(--bg-color);\n",
              "    border: none;\n",
              "    border-radius: 50%;\n",
              "    cursor: pointer;\n",
              "    display: none;\n",
              "    fill: var(--fill-color);\n",
              "    height: 32px;\n",
              "    padding: 0;\n",
              "    width: 32px;\n",
              "  }\n",
              "\n",
              "  .colab-df-quickchart:hover {\n",
              "    background-color: var(--hover-bg-color);\n",
              "    box-shadow: 0 1px 2px rgba(60, 64, 67, 0.3), 0 1px 3px 1px rgba(60, 64, 67, 0.15);\n",
              "    fill: var(--button-hover-fill-color);\n",
              "  }\n",
              "\n",
              "  .colab-df-quickchart-complete:disabled,\n",
              "  .colab-df-quickchart-complete:disabled:hover {\n",
              "    background-color: var(--disabled-bg-color);\n",
              "    fill: var(--disabled-fill-color);\n",
              "    box-shadow: none;\n",
              "  }\n",
              "\n",
              "  .colab-df-spinner {\n",
              "    border: 2px solid var(--fill-color);\n",
              "    border-color: transparent;\n",
              "    border-bottom-color: var(--fill-color);\n",
              "    animation:\n",
              "      spin 1s steps(1) infinite;\n",
              "  }\n",
              "\n",
              "  @keyframes spin {\n",
              "    0% {\n",
              "      border-color: transparent;\n",
              "      border-bottom-color: var(--fill-color);\n",
              "      border-left-color: var(--fill-color);\n",
              "    }\n",
              "    20% {\n",
              "      border-color: transparent;\n",
              "      border-left-color: var(--fill-color);\n",
              "      border-top-color: var(--fill-color);\n",
              "    }\n",
              "    30% {\n",
              "      border-color: transparent;\n",
              "      border-left-color: var(--fill-color);\n",
              "      border-top-color: var(--fill-color);\n",
              "      border-right-color: var(--fill-color);\n",
              "    }\n",
              "    40% {\n",
              "      border-color: transparent;\n",
              "      border-right-color: var(--fill-color);\n",
              "      border-top-color: var(--fill-color);\n",
              "    }\n",
              "    60% {\n",
              "      border-color: transparent;\n",
              "      border-right-color: var(--fill-color);\n",
              "    }\n",
              "    80% {\n",
              "      border-color: transparent;\n",
              "      border-right-color: var(--fill-color);\n",
              "      border-bottom-color: var(--fill-color);\n",
              "    }\n",
              "    90% {\n",
              "      border-color: transparent;\n",
              "      border-bottom-color: var(--fill-color);\n",
              "    }\n",
              "  }\n",
              "</style>\n",
              "\n",
              "  <script>\n",
              "    async function quickchart(key) {\n",
              "      const quickchartButtonEl =\n",
              "        document.querySelector('#' + key + ' button');\n",
              "      quickchartButtonEl.disabled = true;  // To prevent multiple clicks.\n",
              "      quickchartButtonEl.classList.add('colab-df-spinner');\n",
              "      try {\n",
              "        const charts = await google.colab.kernel.invokeFunction(\n",
              "            'suggestCharts', [key], {});\n",
              "      } catch (error) {\n",
              "        console.error('Error during call to suggestCharts:', error);\n",
              "      }\n",
              "      quickchartButtonEl.classList.remove('colab-df-spinner');\n",
              "      quickchartButtonEl.classList.add('colab-df-quickchart-complete');\n",
              "    }\n",
              "    (() => {\n",
              "      let quickchartButtonEl =\n",
              "        document.querySelector('#df-8136aabd-02aa-4ae1-a4b5-1f5ddecdd51a button');\n",
              "      quickchartButtonEl.style.display =\n",
              "        google.colab.kernel.accessAllowed ? 'block' : 'none';\n",
              "    })();\n",
              "  </script>\n",
              "</div>\n",
              "\n",
              "    </div>\n",
              "  </div>\n"
            ],
            "application/vnd.google.colaboratory.intrinsic+json": {
              "type": "dataframe",
              "variable_name": "transaction_data",
              "summary": "{\n  \"name\": \"transaction_data\",\n  \"rows\": 10000,\n  \"fields\": [\n    {\n      \"column\": \"transaction_id\",\n      \"properties\": {\n        \"dtype\": \"string\",\n        \"num_unique_values\": 10000,\n        \"samples\": [\n          \"gAAAAABmkpv7W9bPAJ08fJ3_baAF4tpxaVbWaYGklUJHcBizKaVvn2BGF1rSFiU6wulnmVMlv2Ri1ImLLJ30cRp39NxzEvqZ6A==\",\n          \"gAAAAABmkpv7nHqsED0kVpHN7mXV7u5CH9g2Rc93cKjxQG_33U292Ogl7J2zuLkx3LhVOZKnhodggTEZM9EPSUgLKn9VG9sSBA==\",\n          \"gAAAAABmkpv6QfARfLFGVHjNbe27dGxBTVB-U154JJsacs4MGYdOnglpyME5z8L7kWUduIaeEmoZ5Vex0RVvFBUhI8wgAvEsEw==\"\n        ],\n        \"semantic_type\": \"\",\n        \"description\": \"\"\n      }\n    },\n    {\n      \"column\": \"transaction_amount\",\n      \"properties\": {\n        \"dtype\": \"number\",\n        \"std\": 288.35417692532343,\n        \"min\": -42.913919856230834,\n        \"max\": 1045.4049732254007,\n        \"num_unique_values\": 10000,\n        \"samples\": [\n          103.23122373995534,\n          513.9571133324375,\n          753.0295072806686\n        ],\n        \"semantic_type\": \"\",\n        \"description\": \"\"\n      }\n    },\n    {\n      \"column\": \"transaction_time\",\n      \"properties\": {\n        \"dtype\": \"string\",\n        \"num_unique_values\": 10000,\n        \"samples\": [\n          \"gAAAAABmkpv8euKy3dnavxtpQ5zo7yvaoZMouT5Hsi8Xo2UzkHDBBsfT_eNxlmm1YURryMdkBcf-IsHhXbVCL3vd7ytkW6Dg8zpWvwSNkHWHwtho8Jmtwtk=\",\n          \"gAAAAABmkpv8nSmKQd5Z3XDfCB-K20to5j4E1HlX366oBdEMPShsFRKygtOYhPwSLKL843SE3MqxENH6XN-mYI6NkQYCMtlyBz1bxS37BjduJJR9OyRvdzE=\",\n          \"gAAAAABmkpv8abA6BRG8m0bxUvvATnIqU7y8_LIScCwRN6-eZoiJXo-60M4pZ6GdEqf4heuw8PIedpWzhP3pUUNP60pmySD7o8L4OLDldIk-PVbbCqN7q5U=\"\n        ],\n        \"semantic_type\": \"\",\n        \"description\": \"\"\n      }\n    },\n    {\n      \"column\": \"transaction_type\",\n      \"properties\": {\n        \"dtype\": \"category\",\n        \"num_unique_values\": 4,\n        \"samples\": [\n          \"purchase\",\n          \"withdrawal\",\n          \"payment\"\n        ],\n        \"semantic_type\": \"\",\n        \"description\": \"\"\n      }\n    },\n    {\n      \"column\": \"merchant_category\",\n      \"properties\": {\n        \"dtype\": \"category\",\n        \"num_unique_values\": 5,\n        \"samples\": [\n          \"entertainment\",\n          \"groceries\",\n          \"clothing\"\n        ],\n        \"semantic_type\": \"\",\n        \"description\": \"\"\n      }\n    },\n    {\n      \"column\": \"is_fraud\",\n      \"properties\": {\n        \"dtype\": \"number\",\n        \"std\": 0,\n        \"min\": 0,\n        \"max\": 1,\n        \"num_unique_values\": 2,\n        \"samples\": [\n          1,\n          0\n        ],\n        \"semantic_type\": \"\",\n        \"description\": \"\"\n      }\n    },\n    {\n      \"column\": \"transaction_hour\",\n      \"properties\": {\n        \"dtype\": \"int32\",\n        \"num_unique_values\": 24,\n        \"samples\": [\n          8,\n          16\n        ],\n        \"semantic_type\": \"\",\n        \"description\": \"\"\n      }\n    },\n    {\n      \"column\": \"transaction_day\",\n      \"properties\": {\n        \"dtype\": \"int32\",\n        \"num_unique_values\": 7,\n        \"samples\": [\n          6,\n          0\n        ],\n        \"semantic_type\": \"\",\n        \"description\": \"\"\n      }\n    }\n  ]\n}"
            }
          },
          "metadata": {},
          "execution_count": 28
        }
      ]
    },
    {
      "cell_type": "markdown",
      "source": [
        "# **Decrypting the encrypted PII**"
      ],
      "metadata": {
        "id": "8mf6JfBOe8Aw"
      }
    },
    {
      "cell_type": "code",
      "source": [
        "transaction_data['transaction_id'] = transaction_data['transaction_id'].apply(lambda x: cipher.decrypt(x.encode()).decode())\n",
        "transaction_data['transaction_time'] = transaction_data['transaction_time'].apply(lambda x: cipher.decrypt(x.encode()).decode())"
      ],
      "metadata": {
        "id": "jMJlzV_qcu2B"
      },
      "execution_count": 29,
      "outputs": []
    },
    {
      "cell_type": "code",
      "source": [
        "# Convert transaction_time back to datetime\n",
        "transaction_data['transaction_time'] = pd.to_datetime(transaction_data['transaction_time'])"
      ],
      "metadata": {
        "id": "Cmm3ArAKuC_v"
      },
      "execution_count": 30,
      "outputs": []
    },
    {
      "cell_type": "code",
      "source": [
        "print(transaction_data.head())"
      ],
      "metadata": {
        "colab": {
          "base_uri": "https://localhost:8080/"
        },
        "id": "fizDseeyuFan",
        "outputId": "0792244e-7f61-4572-bfb4-b7adfec022ae"
      },
      "execution_count": 31,
      "outputs": [
        {
          "output_type": "stream",
          "name": "stdout",
          "text": [
            "  transaction_id  transaction_amount    transaction_time transaction_type  \\\n",
            "0              0          871.447303 2023-01-01 00:00:00          payment   \n",
            "1              1           66.424547 2023-01-01 00:01:00         purchase   \n",
            "2              2          754.916352 2023-01-01 00:02:00          payment   \n",
            "3              3           47.479052 2023-01-01 00:03:00          payment   \n",
            "4              4          105.032887 2023-01-01 00:04:00         transfer   \n",
            "\n",
            "  merchant_category  is_fraud  transaction_hour  transaction_day  \n",
            "0       electronics         0                 0                6  \n",
            "1     entertainment         0                 0                6  \n",
            "2     entertainment         0                 0                6  \n",
            "3     entertainment         0                 0                6  \n",
            "4     entertainment         0                 0                6  \n"
          ]
        }
      ]
    },
    {
      "cell_type": "code",
      "source": [],
      "metadata": {
        "id": "vzp5Xgj0uQBm"
      },
      "execution_count": null,
      "outputs": []
    }
  ]
}